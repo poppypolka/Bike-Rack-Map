{
 "cells": [
  {
   "cell_type": "code",
   "execution_count": 1,
   "metadata": {},
   "outputs": [],
   "source": [
    "import geopandas as gpd \n",
    "from bs4 import BeautifulSoup\n",
    "import folium \n",
    "from geopy.geocoders import Nominatim\n",
    "\n",
    "file = open('/Users/beilinteo/Desktop/Tableau Fun Times /lta-bicycle-rack/lta-bicycle-rack-geojson.geojson')\n",
    "df = gpd.read_file(file)"
   ]
  },
  {
   "cell_type": "code",
   "execution_count": 44,
   "metadata": {},
   "outputs": [],
   "source": [
    "#Preparing the Data \n",
    "\n",
    "des=df['Description']\n",
    "geo=df['geometry']\n",
    "\n",
    "shelter = []\n",
    "type = []\n",
    "rack_count = []\n",
    "add = []\n",
    "\n",
    "for s in des:\n",
    "    soup = BeautifulSoup(s)\n",
    "    table = soup.find('table')\n",
    "    dataset = [td.get_text() for td in table.find_all('td')[:3]]\n",
    "    shelter.append(dataset[0])\n",
    "    type.append(dataset[1])\n",
    "    rack_count.append(dataset[2])\n",
    "\n",
    "geolocator = Nominatim(user_agent=\"openstreetmaps\")\n",
    "\n",
    "for g in geo: \n",
    "    coord = g.y, g.x\n",
    "    location = geolocator.reverse(coord)\n",
    "    add.append(location.address)\n",
    "\n",
    "    \n",
    "df['Shelter']= shelter\n",
    "df['Type']= type\n",
    "df['Rack_Count']= rack_count\n",
    "df['Address']=add \n"
   ]
  },
  {
   "cell_type": "code",
   "execution_count": 43,
   "metadata": {},
   "outputs": [],
   "source": [
    "#Creating the map \n",
    "\n",
    "m = folium.Map(location=[1.3521, 103.8198],zoom_start=12, tiles='CartoDB positron')\n",
    "   \n",
    " \n",
    "for grp_name, df_grp in df.groupby('Type'):\n",
    "    feature_group=folium.FeatureGroup(grp_name)\n",
    "\n",
    "    for row in df_grp.itertuples():\n",
    "        popup = folium.Popup(\"<b>Address: </b>\"+row.Address+\"<br><b>Shelter: </b>\"+row.Shelter+\"<br><b>Rack Count: </b>\"+row.Rack_Count, max_width=300, min_width=300)\n",
    "        \n",
    "        if row.Type=='Single':\n",
    "            folium.CircleMarker(\n",
    "                location=[row.geometry.y, row.geometry.x],\n",
    "                popup=popup,\n",
    "                radius=int(row.Rack_Count)/6,\n",
    "                stroke=False,\n",
    "                color='pink',\n",
    "                fill_color='pink',\n",
    "                fill_opacity=.7,\n",
    "                fill=True\n",
    "            ).add_to(feature_group)\n",
    "       \n",
    "        elif row.Type=='Double':\n",
    "            folium.CircleMarker(\n",
    "                location=[row.geometry.y, row.geometry.x],\n",
    "                popup=popup,  \n",
    "                radius=int(row.Rack_Count)/6,\n",
    "                stroke=False,\n",
    "                color='cadetblue',\n",
    "                fill_color='cadetblue',\n",
    "                fill_opacity=.7,\n",
    "                fill=True\n",
    "            ).add_to(feature_group)    \n",
    "    \n",
    "        else:\n",
    "            folium.CircleMarker(\n",
    "                location=[row.geometry.y, row.geometry.x],\n",
    "                popup=popup, \n",
    "                radius=10,\n",
    "                stroke=False,\n",
    "                color='orange',\n",
    "                fill_color='orange',\n",
    "                fill_opacity=.7,\n",
    "                fill=True\n",
    "            ).add_to(feature_group)    \n",
    "            \n",
    "    feature_group.add_to(m)\n",
    "\n",
    "    \n",
    "folium.LayerControl(position='bottomleft',collapsed=False).add_to(m)\n",
    "\n",
    "\n",
    "m.save('bikerack_map.html')"
   ]
  },
  {
   "cell_type": "code",
   "execution_count": null,
   "metadata": {},
   "outputs": [],
   "source": [
    "\n",
    "    "
   ]
  },
  {
   "cell_type": "code",
   "execution_count": null,
   "metadata": {},
   "outputs": [],
   "source": []
  },
  {
   "cell_type": "code",
   "execution_count": null,
   "metadata": {},
   "outputs": [],
   "source": []
  },
  {
   "cell_type": "code",
   "execution_count": null,
   "metadata": {},
   "outputs": [],
   "source": []
  },
  {
   "cell_type": "code",
   "execution_count": null,
   "metadata": {},
   "outputs": [],
   "source": []
  },
  {
   "cell_type": "code",
   "execution_count": null,
   "metadata": {},
   "outputs": [],
   "source": []
  },
  {
   "cell_type": "code",
   "execution_count": null,
   "metadata": {},
   "outputs": [],
   "source": []
  },
  {
   "cell_type": "code",
   "execution_count": null,
   "metadata": {},
   "outputs": [],
   "source": []
  },
  {
   "cell_type": "code",
   "execution_count": null,
   "metadata": {},
   "outputs": [],
   "source": []
  },
  {
   "cell_type": "code",
   "execution_count": null,
   "metadata": {},
   "outputs": [],
   "source": []
  }
 ],
 "metadata": {
  "kernelspec": {
   "display_name": "Python 3",
   "language": "python",
   "name": "python3"
  },
  "language_info": {
   "codemirror_mode": {
    "name": "ipython",
    "version": 3
   },
   "file_extension": ".py",
   "mimetype": "text/x-python",
   "name": "python",
   "nbconvert_exporter": "python",
   "pygments_lexer": "ipython3",
   "version": "3.8.3"
  }
 },
 "nbformat": 4,
 "nbformat_minor": 4
}
